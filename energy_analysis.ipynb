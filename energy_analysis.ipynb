{
 "cells": [
  {
   "cell_type": "code",
   "execution_count": 1,
   "metadata": {},
   "outputs": [],
   "source": [
    "import pandas as pd"
   ]
  },
  {
   "cell_type": "code",
   "execution_count": 2,
   "metadata": {},
   "outputs": [],
   "source": [
    "from scrape import aemo, cen"
   ]
  },
  {
   "cell_type": "code",
   "execution_count": 3,
   "metadata": {},
   "outputs": [],
   "source": [
    "years = range(2016, 2020)"
   ]
  },
  {
   "cell_type": "markdown",
   "metadata": {},
   "source": [
    "## Australia Energy Consumption"
   ]
  },
  {
   "cell_type": "code",
   "execution_count": 4,
   "metadata": {},
   "outputs": [],
   "source": [
    "regions = [\"NSW\", \"QLD\", \"VIC\", \"SA\", \"TAS\"]"
   ]
  },
  {
   "cell_type": "code",
   "execution_count": 5,
   "metadata": {},
   "outputs": [],
   "source": [
    "au = aemo.AEMO(regions, years)\n",
    "au_data = au.get_aemo_data()"
   ]
  },
  {
   "cell_type": "code",
   "execution_count": 6,
   "metadata": {},
   "outputs": [
    {
     "data": {
      "text/plain": [
       "0"
      ]
     },
     "execution_count": 6,
     "metadata": {},
     "output_type": "execute_result"
    }
   ],
   "source": [
    "len(au.errors)"
   ]
  },
  {
   "cell_type": "code",
   "execution_count": 7,
   "metadata": {},
   "outputs": [
    {
     "data": {
      "text/html": [
       "<div>\n",
       "<style scoped>\n",
       "    .dataframe tbody tr th:only-of-type {\n",
       "        vertical-align: middle;\n",
       "    }\n",
       "\n",
       "    .dataframe tbody tr th {\n",
       "        vertical-align: top;\n",
       "    }\n",
       "\n",
       "    .dataframe thead th {\n",
       "        text-align: right;\n",
       "    }\n",
       "</style>\n",
       "<table border=\"1\" class=\"dataframe\">\n",
       "  <thead>\n",
       "    <tr style=\"text-align: right;\">\n",
       "      <th></th>\n",
       "      <th>REGION</th>\n",
       "      <th>SETTLEMENTDATE</th>\n",
       "      <th>TOTALDEMAND</th>\n",
       "      <th>RRP</th>\n",
       "      <th>PERIODTYPE</th>\n",
       "    </tr>\n",
       "  </thead>\n",
       "  <tbody>\n",
       "    <tr>\n",
       "      <th>0</th>\n",
       "      <td>NSW1</td>\n",
       "      <td>2016-01-01 00:30:00</td>\n",
       "      <td>6976.20</td>\n",
       "      <td>36.82</td>\n",
       "      <td>TRADE</td>\n",
       "    </tr>\n",
       "    <tr>\n",
       "      <th>1</th>\n",
       "      <td>NSW1</td>\n",
       "      <td>2016-01-01 01:00:00</td>\n",
       "      <td>6751.26</td>\n",
       "      <td>39.67</td>\n",
       "      <td>TRADE</td>\n",
       "    </tr>\n",
       "    <tr>\n",
       "      <th>2</th>\n",
       "      <td>NSW1</td>\n",
       "      <td>2016-01-01 01:30:00</td>\n",
       "      <td>6421.49</td>\n",
       "      <td>38.41</td>\n",
       "      <td>TRADE</td>\n",
       "    </tr>\n",
       "    <tr>\n",
       "      <th>3</th>\n",
       "      <td>NSW1</td>\n",
       "      <td>2016-01-01 02:00:00</td>\n",
       "      <td>6125.98</td>\n",
       "      <td>39.41</td>\n",
       "      <td>TRADE</td>\n",
       "    </tr>\n",
       "    <tr>\n",
       "      <th>4</th>\n",
       "      <td>NSW1</td>\n",
       "      <td>2016-01-01 02:30:00</td>\n",
       "      <td>5939.91</td>\n",
       "      <td>44.34</td>\n",
       "      <td>TRADE</td>\n",
       "    </tr>\n",
       "  </tbody>\n",
       "</table>\n",
       "</div>"
      ],
      "text/plain": [
       "0 REGION      SETTLEMENTDATE  TOTALDEMAND    RRP PERIODTYPE\n",
       "0   NSW1 2016-01-01 00:30:00      6976.20  36.82      TRADE\n",
       "1   NSW1 2016-01-01 01:00:00      6751.26  39.67      TRADE\n",
       "2   NSW1 2016-01-01 01:30:00      6421.49  38.41      TRADE\n",
       "3   NSW1 2016-01-01 02:00:00      6125.98  39.41      TRADE\n",
       "4   NSW1 2016-01-01 02:30:00      5939.91  44.34      TRADE"
      ]
     },
     "execution_count": 7,
     "metadata": {},
     "output_type": "execute_result"
    }
   ],
   "source": [
    "au_data.head()"
   ]
  },
  {
   "cell_type": "markdown",
   "metadata": {},
   "source": [
    "## Chile Energy Consumption"
   ]
  },
  {
   "cell_type": "code",
   "execution_count": 8,
   "metadata": {},
   "outputs": [],
   "source": [
    "cl = cen.CEN(years)"
   ]
  },
  {
   "cell_type": "code",
   "execution_count": 9,
   "metadata": {},
   "outputs": [
    {
     "name": "stdout",
     "output_type": "stream",
     "text": [
      "2018\n"
     ]
    },
    {
     "name": "stderr",
     "output_type": "stream",
     "text": [
      "  0%|                                                                                                        | 0/99 [00:00<?, ?it/s]"
     ]
    },
    {
     "name": "stdout",
     "output_type": "stream",
     "text": [
      "download_data: 10.49 seconds\n",
      "unzip_files: 0.05 seconds\n"
     ]
    },
    {
     "name": "stderr",
     "output_type": "stream",
     "text": [
      "100%|███████████████████████████████████████████████████████████████████████████████████████████████| 99/99 [00:13<00:00,  7.52it/s]\n"
     ]
    },
    {
     "name": "stdout",
     "output_type": "stream",
     "text": [
      "2017\n"
     ]
    },
    {
     "name": "stderr",
     "output_type": "stream",
     "text": [
      "  0%|                                                                                                       | 0/365 [00:00<?, ?it/s]"
     ]
    },
    {
     "name": "stdout",
     "output_type": "stream",
     "text": [
      "download_data: 1.47 minutes\n",
      "unzip_files: 0.01 seconds\n"
     ]
    },
    {
     "name": "stderr",
     "output_type": "stream",
     "text": [
      "100%|█████████████████████████████████████████████████████████████████████████████████████████████| 365/365 [03:42<00:00,  1.64it/s]\n"
     ]
    },
    {
     "name": "stdout",
     "output_type": "stream",
     "text": [
      "2016\n"
     ]
    },
    {
     "name": "stderr",
     "output_type": "stream",
     "text": [
      "  0%|                                                                                                       | 0/366 [00:00<?, ?it/s]"
     ]
    },
    {
     "name": "stdout",
     "output_type": "stream",
     "text": [
      "download_data: 1.11 minutes\n",
      "unzip_files: 0.01 seconds\n"
     ]
    },
    {
     "name": "stderr",
     "output_type": "stream",
     "text": [
      "100%|█████████████████████████████████████████████████████████████████████████████████████████████| 366/366 [03:41<00:00,  1.65it/s]\n"
     ]
    }
   ],
   "source": [
    "cl_data = cl.get_cen_data()"
   ]
  },
  {
   "cell_type": "code",
   "execution_count": 10,
   "metadata": {},
   "outputs": [
    {
     "data": {
      "text/html": [
       "<div>\n",
       "<style scoped>\n",
       "    .dataframe tbody tr th:only-of-type {\n",
       "        vertical-align: middle;\n",
       "    }\n",
       "\n",
       "    .dataframe tbody tr th {\n",
       "        vertical-align: top;\n",
       "    }\n",
       "\n",
       "    .dataframe thead th {\n",
       "        text-align: right;\n",
       "    }\n",
       "</style>\n",
       "<table border=\"1\" class=\"dataframe\">\n",
       "  <thead>\n",
       "    <tr style=\"text-align: right;\">\n",
       "      <th></th>\n",
       "      <th>date</th>\n",
       "      <th>Centrales</th>\n",
       "      <th>1</th>\n",
       "      <th>2</th>\n",
       "      <th>3</th>\n",
       "      <th>4</th>\n",
       "      <th>5.0</th>\n",
       "      <th>6</th>\n",
       "      <th>7.0</th>\n",
       "      <th>8.0</th>\n",
       "      <th>...</th>\n",
       "      <th>20</th>\n",
       "      <th>21.0</th>\n",
       "      <th>22.0</th>\n",
       "      <th>23</th>\n",
       "      <th>24.0</th>\n",
       "      <th>Real</th>\n",
       "      <th>Máxima</th>\n",
       "      <th>Prog.</th>\n",
       "      <th>25.0</th>\n",
       "      <th>Total</th>\n",
       "    </tr>\n",
       "  </thead>\n",
       "  <tbody>\n",
       "    <tr>\n",
       "      <th>0</th>\n",
       "      <td>2018-01-01</td>\n",
       "      <td>Total Generación SIC</td>\n",
       "      <td>5586.13</td>\n",
       "      <td>5586.54</td>\n",
       "      <td>5403.36</td>\n",
       "      <td>5168.44</td>\n",
       "      <td>4934.463841</td>\n",
       "      <td>4802.12</td>\n",
       "      <td>4661.904772</td>\n",
       "      <td>4523.939107</td>\n",
       "      <td>...</td>\n",
       "      <td>5411.9</td>\n",
       "      <td>5574.650418</td>\n",
       "      <td>6089.568176</td>\n",
       "      <td>6210.84</td>\n",
       "      <td>5923.152669</td>\n",
       "      <td>127087</td>\n",
       "      <td>6210.84</td>\n",
       "      <td>NaN</td>\n",
       "      <td>NaN</td>\n",
       "      <td>NaN</td>\n",
       "    </tr>\n",
       "    <tr>\n",
       "      <th>1</th>\n",
       "      <td>2018-01-02</td>\n",
       "      <td>Total Generación SIC</td>\n",
       "      <td>5563.29</td>\n",
       "      <td>5285.02</td>\n",
       "      <td>5060.24</td>\n",
       "      <td>4951.97</td>\n",
       "      <td>4946.521774</td>\n",
       "      <td>5114.27</td>\n",
       "      <td>5288.953742</td>\n",
       "      <td>5498.294224</td>\n",
       "      <td>...</td>\n",
       "      <td>7101.17</td>\n",
       "      <td>7122.330039</td>\n",
       "      <td>7471.706758</td>\n",
       "      <td>7335.39</td>\n",
       "      <td>6908.765731</td>\n",
       "      <td>157856</td>\n",
       "      <td>7793.84</td>\n",
       "      <td>NaN</td>\n",
       "      <td>NaN</td>\n",
       "      <td>NaN</td>\n",
       "    </tr>\n",
       "    <tr>\n",
       "      <th>2</th>\n",
       "      <td>2018-01-03</td>\n",
       "      <td>Total Generación SIC</td>\n",
       "      <td>6467.02</td>\n",
       "      <td>6056.39</td>\n",
       "      <td>5820.87</td>\n",
       "      <td>5669.2</td>\n",
       "      <td>5514.909245</td>\n",
       "      <td>5627.32</td>\n",
       "      <td>5820.001857</td>\n",
       "      <td>5956.964723</td>\n",
       "      <td>...</td>\n",
       "      <td>7039.02</td>\n",
       "      <td>6980.342747</td>\n",
       "      <td>7439.094768</td>\n",
       "      <td>7446.86</td>\n",
       "      <td>6974.695463</td>\n",
       "      <td>166648</td>\n",
       "      <td>7977.25</td>\n",
       "      <td>NaN</td>\n",
       "      <td>NaN</td>\n",
       "      <td>NaN</td>\n",
       "    </tr>\n",
       "    <tr>\n",
       "      <th>3</th>\n",
       "      <td>2018-01-04</td>\n",
       "      <td>Total Generación SIC</td>\n",
       "      <td>6503.89</td>\n",
       "      <td>6088.1</td>\n",
       "      <td>5866.77</td>\n",
       "      <td>5723.33</td>\n",
       "      <td>5643.904601</td>\n",
       "      <td>5732.1</td>\n",
       "      <td>5819.773981</td>\n",
       "      <td>6052.061607</td>\n",
       "      <td>...</td>\n",
       "      <td>7087.86</td>\n",
       "      <td>7110.611922</td>\n",
       "      <td>7529.913171</td>\n",
       "      <td>7460.52</td>\n",
       "      <td>7041.212406</td>\n",
       "      <td>165299</td>\n",
       "      <td>7725.31</td>\n",
       "      <td>NaN</td>\n",
       "      <td>NaN</td>\n",
       "      <td>NaN</td>\n",
       "    </tr>\n",
       "    <tr>\n",
       "      <th>4</th>\n",
       "      <td>2018-01-05</td>\n",
       "      <td>Total Generación SIC</td>\n",
       "      <td>6506.3</td>\n",
       "      <td>6123.73</td>\n",
       "      <td>5866.21</td>\n",
       "      <td>5730.75</td>\n",
       "      <td>5719.525878</td>\n",
       "      <td>5789.1</td>\n",
       "      <td>5889.826648</td>\n",
       "      <td>6119.921577</td>\n",
       "      <td>...</td>\n",
       "      <td>7062.76</td>\n",
       "      <td>6995.541304</td>\n",
       "      <td>7380.231951</td>\n",
       "      <td>7319.5</td>\n",
       "      <td>7068.237571</td>\n",
       "      <td>165646</td>\n",
       "      <td>7754.07</td>\n",
       "      <td>NaN</td>\n",
       "      <td>NaN</td>\n",
       "      <td>NaN</td>\n",
       "    </tr>\n",
       "  </tbody>\n",
       "</table>\n",
       "<p>5 rows × 31 columns</p>\n",
       "</div>"
      ],
      "text/plain": [
       "        date             Centrales        1        2        3        4  \\\n",
       "0 2018-01-01  Total Generación SIC  5586.13  5586.54  5403.36  5168.44   \n",
       "1 2018-01-02  Total Generación SIC  5563.29  5285.02  5060.24  4951.97   \n",
       "2 2018-01-03  Total Generación SIC  6467.02  6056.39  5820.87   5669.2   \n",
       "3 2018-01-04  Total Generación SIC  6503.89   6088.1  5866.77  5723.33   \n",
       "4 2018-01-05  Total Generación SIC   6506.3  6123.73  5866.21  5730.75   \n",
       "\n",
       "           5.0        6          7.0          8.0  ...       20         21.0  \\\n",
       "0  4934.463841  4802.12  4661.904772  4523.939107  ...   5411.9  5574.650418   \n",
       "1  4946.521774  5114.27  5288.953742  5498.294224  ...  7101.17  7122.330039   \n",
       "2  5514.909245  5627.32  5820.001857  5956.964723  ...  7039.02  6980.342747   \n",
       "3  5643.904601   5732.1  5819.773981  6052.061607  ...  7087.86  7110.611922   \n",
       "4  5719.525878   5789.1  5889.826648  6119.921577  ...  7062.76  6995.541304   \n",
       "\n",
       "          22.0       23         24.0    Real   Máxima Prog. 25.0  Total  \n",
       "0  6089.568176  6210.84  5923.152669  127087  6210.84   NaN  NaN    NaN  \n",
       "1  7471.706758  7335.39  6908.765731  157856  7793.84   NaN  NaN    NaN  \n",
       "2  7439.094768  7446.86  6974.695463  166648  7977.25   NaN  NaN    NaN  \n",
       "3  7529.913171  7460.52  7041.212406  165299  7725.31   NaN  NaN    NaN  \n",
       "4  7380.231951   7319.5  7068.237571  165646  7754.07   NaN  NaN    NaN  \n",
       "\n",
       "[5 rows x 31 columns]"
      ]
     },
     "execution_count": 10,
     "metadata": {},
     "output_type": "execute_result"
    }
   ],
   "source": [
    "cl_data.head()"
   ]
  },
  {
   "cell_type": "code",
   "execution_count": null,
   "metadata": {},
   "outputs": [],
   "source": []
  }
 ],
 "metadata": {
  "kernelspec": {
   "display_name": "Python 3",
   "language": "python",
   "name": "python3"
  },
  "language_info": {
   "codemirror_mode": {
    "name": "ipython",
    "version": 3
   },
   "file_extension": ".py",
   "mimetype": "text/x-python",
   "name": "python",
   "nbconvert_exporter": "python",
   "pygments_lexer": "ipython3",
   "version": "3.8.2"
  }
 },
 "nbformat": 4,
 "nbformat_minor": 4
}
